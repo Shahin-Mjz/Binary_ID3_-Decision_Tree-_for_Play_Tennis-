{
 "cells": [
  {
   "cell_type": "markdown",
   "id": "2cb90269",
   "metadata": {},
   "source": [
    "### <span style='color:blue'> $$\\bf{\\text{Binary ID3 for Play Tennis}}$$ </span>"
   ]
  },
  {
   "cell_type": "code",
   "execution_count": 1,
   "id": "83d63181",
   "metadata": {},
   "outputs": [],
   "source": [
    "import os\n",
    "import numpy as np\n",
    "import pandas as pd"
   ]
  },
  {
   "cell_type": "markdown",
   "id": "08d21e15",
   "metadata": {},
   "source": [
    "- [ ] <span style='color:blue'> $\\bf{\\text{Part 0: }}$ </span> $\\bf{\\text{Dataset Creation}}$"
   ]
  },
  {
   "cell_type": "code",
   "execution_count": 2,
   "id": "cdae3a1e",
   "metadata": {},
   "outputs": [],
   "source": [
    "# Creating a dictionary type of input data:\n",
    "\n",
    "data_dict = {'Outlook': ['Sunny', 'Sunny', 'Overcast', 'Rain', \n",
    "                        'Rain', 'Rain', 'Overcast', 'Sunny', \n",
    "                        'Sunny', 'Rain', 'Sunny', 'Overcast', \n",
    "                       'Overcast', 'Rain'], \n",
    "            'Temparature': ['Hot', 'Hot', 'Hot', 'Mild', 'Cool', \n",
    "                           'Cool', 'Cool', 'Mild', 'Cool', 'Mild', \n",
    "                           'Mild', 'Mild', 'Hot', 'Mild'], \n",
    "            'Humidity': ['High', 'High', 'High', 'High', 'Normal', \n",
    "                        'Normal', 'Normal', 'High', 'Normal', \n",
    "                         'Normal', 'Normal', 'High', 'Normal', 'High'], \n",
    "            'Wind': ['Weak', 'Strong', 'Weak', 'Weak', 'Weak', \n",
    "                    'Strong', 'Strong', 'Weak', 'Weak', 'Weak', \n",
    "                    'Strong', 'Strong', 'Weak', 'Strong'], \n",
    "            'Label': ['No', 'No', 'Yes', 'Yes', 'Yes', 'No', 'Yes', \n",
    "                     'No', 'Yes', 'Yes', 'Yes', 'Yes', 'Yes', 'No']}"
   ]
  },
  {
   "cell_type": "code",
   "execution_count": 3,
   "id": "17039885",
   "metadata": {},
   "outputs": [],
   "source": [
    "# Saving the DataFrame to a CSV file in the current directory\n",
    "\n",
    "path = os.getcwd() + '/'\n",
    "file_name = 'data1.csv'\n",
    "df = pd.DataFrame(data_dict)\n",
    "df.to_csv(path + file_name, index=False)"
   ]
  },
  {
   "cell_type": "code",
   "execution_count": 4,
   "id": "6c9ab051",
   "metadata": {},
   "outputs": [
    {
     "data": {
      "text/html": [
       "<div>\n",
       "<style scoped>\n",
       "    .dataframe tbody tr th:only-of-type {\n",
       "        vertical-align: middle;\n",
       "    }\n",
       "\n",
       "    .dataframe tbody tr th {\n",
       "        vertical-align: top;\n",
       "    }\n",
       "\n",
       "    .dataframe thead th {\n",
       "        text-align: right;\n",
       "    }\n",
       "</style>\n",
       "<table border=\"1\" class=\"dataframe\">\n",
       "  <thead>\n",
       "    <tr style=\"text-align: right;\">\n",
       "      <th></th>\n",
       "      <th>Outlook</th>\n",
       "      <th>Temparature</th>\n",
       "      <th>Humidity</th>\n",
       "      <th>Wind</th>\n",
       "      <th>Label</th>\n",
       "    </tr>\n",
       "  </thead>\n",
       "  <tbody>\n",
       "    <tr>\n",
       "      <th>0</th>\n",
       "      <td>Sunny</td>\n",
       "      <td>Hot</td>\n",
       "      <td>High</td>\n",
       "      <td>Weak</td>\n",
       "      <td>No</td>\n",
       "    </tr>\n",
       "    <tr>\n",
       "      <th>1</th>\n",
       "      <td>Sunny</td>\n",
       "      <td>Hot</td>\n",
       "      <td>High</td>\n",
       "      <td>Strong</td>\n",
       "      <td>No</td>\n",
       "    </tr>\n",
       "    <tr>\n",
       "      <th>2</th>\n",
       "      <td>Overcast</td>\n",
       "      <td>Hot</td>\n",
       "      <td>High</td>\n",
       "      <td>Weak</td>\n",
       "      <td>Yes</td>\n",
       "    </tr>\n",
       "    <tr>\n",
       "      <th>3</th>\n",
       "      <td>Rain</td>\n",
       "      <td>Mild</td>\n",
       "      <td>High</td>\n",
       "      <td>Weak</td>\n",
       "      <td>Yes</td>\n",
       "    </tr>\n",
       "    <tr>\n",
       "      <th>4</th>\n",
       "      <td>Rain</td>\n",
       "      <td>Cool</td>\n",
       "      <td>Normal</td>\n",
       "      <td>Weak</td>\n",
       "      <td>Yes</td>\n",
       "    </tr>\n",
       "    <tr>\n",
       "      <th>5</th>\n",
       "      <td>Rain</td>\n",
       "      <td>Cool</td>\n",
       "      <td>Normal</td>\n",
       "      <td>Strong</td>\n",
       "      <td>No</td>\n",
       "    </tr>\n",
       "    <tr>\n",
       "      <th>6</th>\n",
       "      <td>Overcast</td>\n",
       "      <td>Cool</td>\n",
       "      <td>Normal</td>\n",
       "      <td>Strong</td>\n",
       "      <td>Yes</td>\n",
       "    </tr>\n",
       "    <tr>\n",
       "      <th>7</th>\n",
       "      <td>Sunny</td>\n",
       "      <td>Mild</td>\n",
       "      <td>High</td>\n",
       "      <td>Weak</td>\n",
       "      <td>No</td>\n",
       "    </tr>\n",
       "    <tr>\n",
       "      <th>8</th>\n",
       "      <td>Sunny</td>\n",
       "      <td>Cool</td>\n",
       "      <td>Normal</td>\n",
       "      <td>Weak</td>\n",
       "      <td>Yes</td>\n",
       "    </tr>\n",
       "    <tr>\n",
       "      <th>9</th>\n",
       "      <td>Rain</td>\n",
       "      <td>Mild</td>\n",
       "      <td>Normal</td>\n",
       "      <td>Weak</td>\n",
       "      <td>Yes</td>\n",
       "    </tr>\n",
       "    <tr>\n",
       "      <th>10</th>\n",
       "      <td>Sunny</td>\n",
       "      <td>Mild</td>\n",
       "      <td>Normal</td>\n",
       "      <td>Strong</td>\n",
       "      <td>Yes</td>\n",
       "    </tr>\n",
       "    <tr>\n",
       "      <th>11</th>\n",
       "      <td>Overcast</td>\n",
       "      <td>Mild</td>\n",
       "      <td>High</td>\n",
       "      <td>Strong</td>\n",
       "      <td>Yes</td>\n",
       "    </tr>\n",
       "    <tr>\n",
       "      <th>12</th>\n",
       "      <td>Overcast</td>\n",
       "      <td>Hot</td>\n",
       "      <td>Normal</td>\n",
       "      <td>Weak</td>\n",
       "      <td>Yes</td>\n",
       "    </tr>\n",
       "    <tr>\n",
       "      <th>13</th>\n",
       "      <td>Rain</td>\n",
       "      <td>Mild</td>\n",
       "      <td>High</td>\n",
       "      <td>Strong</td>\n",
       "      <td>No</td>\n",
       "    </tr>\n",
       "  </tbody>\n",
       "</table>\n",
       "</div>"
      ],
      "text/plain": [
       "     Outlook Temparature Humidity    Wind Label\n",
       "0      Sunny         Hot     High    Weak    No\n",
       "1      Sunny         Hot     High  Strong    No\n",
       "2   Overcast         Hot     High    Weak   Yes\n",
       "3       Rain        Mild     High    Weak   Yes\n",
       "4       Rain        Cool   Normal    Weak   Yes\n",
       "5       Rain        Cool   Normal  Strong    No\n",
       "6   Overcast        Cool   Normal  Strong   Yes\n",
       "7      Sunny        Mild     High    Weak    No\n",
       "8      Sunny        Cool   Normal    Weak   Yes\n",
       "9       Rain        Mild   Normal    Weak   Yes\n",
       "10     Sunny        Mild   Normal  Strong   Yes\n",
       "11  Overcast        Mild     High  Strong   Yes\n",
       "12  Overcast         Hot   Normal    Weak   Yes\n",
       "13      Rain        Mild     High  Strong    No"
      ]
     },
     "execution_count": 4,
     "metadata": {},
     "output_type": "execute_result"
    }
   ],
   "source": [
    "data_df = pd.read_csv(path + file_name)\n",
    "data_df"
   ]
  },
  {
   "cell_type": "markdown",
   "id": "e647d11b",
   "metadata": {},
   "source": [
    "- [x] <span style='color:blue'> $\\bf{\\text{End of Part 0}}$ </span>"
   ]
  },
  {
   "cell_type": "markdown",
   "id": "a10bcf4a",
   "metadata": {},
   "source": [
    "- [ ] <span style='color:blue'> $\\bf{\\text{Part 1: }}$ </span> $\\bf{\\text{Function Definition}}$"
   ]
  },
  {
   "cell_type": "code",
   "execution_count": 5,
   "id": "324d07d1",
   "metadata": {},
   "outputs": [],
   "source": [
    "#                                         ---------\n",
    "# Input: (pd.Series, feature_value) ---> |  Prob   | --->  Output: probability of feature_value in the pd.Series\n",
    "#                                         ---------                               -------------       ----------\n",
    "\n",
    "def Prob(series: pd.Series, value: str) -> float:\n",
    "    \n",
    "    prob = len(series[series == value]) / len(series)\n",
    "    return prob"
   ]
  },
  {
   "cell_type": "code",
   "execution_count": 6,
   "id": "cf49341f",
   "metadata": {},
   "outputs": [],
   "source": [
    "#                                ----------\n",
    "# Input: pd.Series(Labels) ---> |  Entropy | --->  Output: Entropy of input series\n",
    "#                                ----------               --------   --------------\n",
    "\n",
    "\n",
    "def Entropy(labels: pd.Series) -> float:\n",
    "    \n",
    "    positive_prob = Prob(series=labels, value='Yes')\n",
    "    negative_prob = 1 - positive_prob\n",
    "    if (positive_prob == 0) or (positive_prob == 1):\n",
    "        entropy = 0\n",
    "    else:\n",
    "        entropy = -(positive_prob*np.log2(positive_prob) + negative_prob*np.log2(negative_prob))\n",
    "    \n",
    "    return entropy"
   ]
  },
  {
   "cell_type": "code",
   "execution_count": 7,
   "id": "8facaa0c",
   "metadata": {},
   "outputs": [],
   "source": [
    "#                                               ------------\n",
    "# Input: (new_DataFrame, desired_feature) ---> |  Info_Gain | ---> Output: Information_Gain of the desired feature\n",
    "#                                               ------------                ----------------       ---------------\n",
    "\n",
    "def Info_Gain(df: pd.DataFrame, feature: str) -> float:\n",
    "    feature_values = np.unique(df[feature])\n",
    "    probs_dict = {}\n",
    "    ent_dict = {}\n",
    "    info_gain = Entropy(labels=df['Label'])\n",
    "    for feature_value in feature_values:\n",
    "        probs_dict[feature_value] = Prob(series=df[feature], value=feature_value)\n",
    "        ent_dict[feature_value] = Entropy(labels=df[df[feature] == feature_value]['Label'])\n",
    "        \n",
    "    info_gain -= np.sum(np.array(list(probs_dict.values()))*np.array(list(ent_dict.values())))\n",
    "    return info_gain"
   ]
  },
  {
   "cell_type": "code",
   "execution_count": 8,
   "id": "39ef397f",
   "metadata": {},
   "outputs": [],
   "source": [
    "#                                  ----------------------\n",
    "# Input: Previous_branch_str ---> |  Branch_str_updater  | --->  Output: List of the Previous_branch + new_possible_mini_branches\n",
    "#                                  ----------------------                           ---------------------------------------------\n",
    "\n",
    "def branch_str_updater(previous_branch_str: str, mini_branches: list) -> list:\n",
    "    updated_branch_list = []\n",
    "    for mini_branch_str in mini_branches:\n",
    "        updated_branch_str = previous_branch_str + mini_branch_str\n",
    "        updated_branch_list.append(updated_branch_str)\n",
    "        \n",
    "    return updated_branch_list"
   ]
  },
  {
   "cell_type": "code",
   "execution_count": 9,
   "id": "c84b793a",
   "metadata": {},
   "outputs": [],
   "source": [
    "#                                        ------------------\n",
    "# Input: DataFrame with its Lables ---> |  Feature_Values  | --->  Output: Dictionary of Features(keys) and Feature_Values(values)\n",
    "#                                        ------------------               -------------------------------------------------------\n",
    "\n",
    "def feature_values(df_with_label: pd.DataFrame) -> dict:\n",
    "    df = df_with_label.copy()\n",
    "    feature_value_dict = {}\n",
    "    del df['Label']\n",
    "    for feature in df.columns:\n",
    "        feature_value_dict[feature] = np.unique(df[feature])\n",
    "        \n",
    "    return feature_value_dict"
   ]
  },
  {
   "cell_type": "code",
   "execution_count": 10,
   "id": "d00cb747",
   "metadata": {},
   "outputs": [],
   "source": [
    "#                                   ----------------------\n",
    "# Input: (S_new, Feature_str) ---> |  mini_branch_creator | --->  Output: List of Mini_branches\n",
    "#                                   ----------------------               ----------------------\n",
    "\n",
    "def mini_branch_creator(S_new: pd.DataFrame, new_state_feature: str) -> str:\n",
    "    features_values_dict = feature_values(df_with_label=S_new)\n",
    "    mini_branches_list = []\n",
    "    feature_values_ndarray = features_values_dict[new_state_feature]\n",
    "    for feature_value in feature_values_ndarray:\n",
    "        mini_branch = new_state_feature + '---' + feature_value + '--->'\n",
    "        mini_branches_list.append(mini_branch)\n",
    "    return mini_branches_list"
   ]
  },
  {
   "cell_type": "code",
   "execution_count": 11,
   "id": "418307ac",
   "metadata": {},
   "outputs": [],
   "source": [
    "#                     --------------------------------------\n",
    "# Input: Branch ---> |  Feature_and_Feature_Value_Seprator  | --->  Output: Dictionary of Features(keys) and Feature_Values(values)\n",
    "#                     --------------------------------------               -------------------------------------------------------\n",
    "\n",
    "def feature_and_feature_value_separator(branch: str='') -> dict:\n",
    "    features_and_feature_values_list = branch.split('--->')\n",
    "    features_and_feature_values_list.remove(features_and_feature_values_list[-1])\n",
    "    features_and_feature_values_dict = {}\n",
    "    for feature_and_feature_value in features_and_feature_values_list:\n",
    "        feature_and_value_list = feature_and_feature_value.split('---')\n",
    "        features_and_feature_values_dict[feature_and_value_list[0]] = feature_and_value_list[1]\n",
    "        \n",
    "    return features_and_feature_values_dict"
   ]
  },
  {
   "cell_type": "code",
   "execution_count": 12,
   "id": "779f3858",
   "metadata": {},
   "outputs": [],
   "source": [
    "#                                                  ----------------------\n",
    "# Input: (Branches_list, Mini_branches_list) ---> |  Branch_str_updater  | --->  Output: List of the New_branches\n",
    "#                                                  ----------------------               --------------------------\n",
    "\n",
    "def branches_list_updater(branches_list: list, mini_branches_list: list) -> list:\n",
    "    new_branches_list = []\n",
    "    for branch in branches_list:\n",
    "        for mini_branch in mini_branches_list:\n",
    "            new_branch_str = branch + mini_branch\n",
    "            new_branches_list.append(new_branch_str)\n",
    "            \n",
    "    return new_branches_list"
   ]
  },
  {
   "cell_type": "code",
   "execution_count": 13,
   "id": "b37bfcc3",
   "metadata": {},
   "outputs": [],
   "source": [
    "#                                                                        ------------------\n",
    "# Input: (Original_DataFrame, Dictionary of Features and its Values)--->|  S_new_creator   |---> Output: New_DataFrame\n",
    "#                                                                        ------------------              -------------\n",
    "\n",
    "def S_new_creator(orig_data: pd.DataFrame=data_df, feature_and_feature_values: dict={}) -> pd.DataFrame:\n",
    "    features = feature_and_feature_values.keys()\n",
    "    df = orig_data\n",
    "    for feature in features:\n",
    "        df = df[df[feature] == feature_and_feature_values[feature]]\n",
    "        l = list(df.keys())\n",
    "        l.remove(feature)\n",
    "        df = df[l]\n",
    "    return df"
   ]
  },
  {
   "cell_type": "code",
   "execution_count": 14,
   "id": "3e013636",
   "metadata": {},
   "outputs": [],
   "source": [
    "#                             ---------------------------------                                                               \n",
    "# Input: New_DataFrame  ---> |  info_gain_for_S_new_features   | --->  Output: Dictiionary of Info_Gain\n",
    "#                             ---------------------------------               -------------------------\n",
    "\n",
    "def info_gain_for_S_new_features(df: pd.DataFrame) -> dict:\n",
    "    data = df.copy()\n",
    "    info_gain_dict = {}\n",
    "    for feature in data.keys():\n",
    "        info_gain_dict[feature] = Info_Gain(df=data, feature=feature)\n",
    "    \n",
    "    del info_gain_dict['Label']\n",
    "    return info_gain_dict"
   ]
  },
  {
   "cell_type": "code",
   "execution_count": 15,
   "id": "dede5298",
   "metadata": {},
   "outputs": [],
   "source": [
    "#                                      ---------------------------\n",
    "# Input: Dictionary of Info_Gain ---> |  max_info_gain_attribute  | --->  Output: (max_key, max_Info_Gain)\n",
    "#                                      ---------------------------                ------------------------\n",
    "\n",
    "def max_info_gain_attribute(info_gain_dict: dict) -> (str, float):\n",
    "        max_key = max(info_gain_dict, key=info_gain_dict.get)\n",
    "        max_value = info_gain_dict[max_key]\n",
    "        return (max_key, max_value)"
   ]
  },
  {
   "cell_type": "code",
   "execution_count": 16,
   "id": "b994b5bb",
   "metadata": {},
   "outputs": [],
   "source": [
    "#                               ----------------------------\n",
    "# Input: List_of_Branches ---> |  list_of_branches_updater  | --->  Output: (List_of_Branches, list_of_completed_branches)\n",
    "#                               ----------------------------                ---------------------------------------------\n",
    "\n",
    "def list_of_branches_updater(list_of_branches: list) -> list:\n",
    "    new_branches_out = []\n",
    "    for branch_str in list_of_branches:\n",
    "        feature_and_feature_value_separator_dict = feature_and_feature_value_separator(branch=branch_str)\n",
    "        S_new_1 = S_new_creator(feature_and_feature_values=feature_and_feature_value_separator_dict)\n",
    "        info_gain_dict = info_gain_for_S_new_features(df=S_new_1)\n",
    "        (selected_feature_str, max_info_float) = max_info_gain_attribute(info_gain_dict=info_gain_dict)\n",
    "        if max_info_float == 0:\n",
    "            new_branches_out.append(branch_str)\n",
    "            continue\n",
    "        else:\n",
    "            list_of_mini_branches = mini_branch_creator(S_new=S_new_1, new_state_feature=selected_feature_str)\n",
    "            new_branches = branch_str_updater(previous_branch_str=branch_str, mini_branches=list_of_mini_branches)\n",
    "            new_branches_out += new_branches\n",
    "    \n",
    "    completed_branches_out = []\n",
    "    for branch_str in new_branches_out:\n",
    "        feature_and_feature_value_separator_dict = feature_and_feature_value_separator(branch=branch_str)\n",
    "        S_new_1 = S_new_creator(feature_and_feature_values=feature_and_feature_value_separator_dict)\n",
    "        info_gain_dict = info_gain_for_S_new_features(df=S_new_1)\n",
    "        (_, max_ifo_float) = max_info_gain_attribute(info_gain_dict=info_gain_dict)\n",
    "        if max_info_float == 0: completed_branches_out.append(branch_str)\n",
    "         \n",
    "    new_branches_out = [x for x in new_branches_out if x not in completed_branches_out]\n",
    "    return (new_branches_out, completed_branches_out)"
   ]
  },
  {
   "cell_type": "code",
   "execution_count": 17,
   "id": "1b66c8be",
   "metadata": {},
   "outputs": [],
   "source": [
    "#                        ----------------------------\n",
    "# Input: No Inputs ---> |  list_of_branches_updater  | --->  Output: List_of_Completed_Branches\n",
    "#                        ----------------------------                --------------------------\n",
    "\n",
    "def final_branches(initial_branch: list=['']):\n",
    "    branches_list = initial_branch\n",
    "    while True:\n",
    "        branches_list, completed_branches_list = list_of_branches_updater(list_of_branches=branches_list)\n",
    "        if branches_list == []: break\n",
    "    \n",
    "    return completed_branches_list"
   ]
  },
  {
   "cell_type": "code",
   "execution_count": 18,
   "id": "16a96875",
   "metadata": {},
   "outputs": [],
   "source": [
    "#                                 ----------------------------------\n",
    "# Input: Completed_branches ---> |  tagging_the_completed_branches  | --->  Output: List_of_Tagged_Branches, List_of_Yes_tagged_Branches\n",
    "#                                 ----------------------------------                ----------------------------------------------------\n",
    "\n",
    "def tagging_the_completed_branches(completed_branches: list) -> list:\n",
    "    tagged_branches_list = []\n",
    "    yes_tagged_branches = []\n",
    "    for branch in completed_branches:\n",
    "        Dict = feature_and_feature_value_separator(branch=branch)\n",
    "        S = S_new_creator(feature_and_feature_values=Dict)\n",
    "        tag = np.unique(S['Label'])[0]\n",
    "        branch_with_tag = branch + tag\n",
    "        tagged_branches_list.append(branch_with_tag)\n",
    "        if tag == 'Yes': yes_tagged_branches.append(branch)\n",
    "        \n",
    "    return tagged_branches_list, yes_tagged_branches"
   ]
  },
  {
   "cell_type": "code",
   "execution_count": 19,
   "id": "4826b827",
   "metadata": {},
   "outputs": [],
   "source": [
    "#                                 ------------------------\n",
    "# Input: Positive_branches ---> |  hypothesis_dict_dict  | --->  Output: A Dictionary of the Dictionary of Positive_branches\n",
    "#                                 ------------------------                ---------------------------------------------------\n",
    "\n",
    "def hypothesis_dict_dict(completed_positive_branches: list) -> dict:\n",
    "    hypothesis_dict = {}\n",
    "    for key_index in range(len(completed_positive_branches)):\n",
    "        hypothesis_dict['positive_branch' + str(key_index + 1)] = \\\n",
    "        feature_and_feature_value_separator(completed_positive_branches[key_index])\n",
    "        \n",
    "    return hypothesis_dict"
   ]
  },
  {
   "cell_type": "code",
   "execution_count": 20,
   "id": "5a9065b5",
   "metadata": {},
   "outputs": [],
   "source": [
    "#                                        -----------\n",
    "# Input: (Hypothesis_dict, Sample) ---> |  predict  | --->  str(Yes or No)\n",
    "#                                        -----------        --------------\n",
    "\n",
    "def predict(hypothesis_dict: dict, sample: dict) -> bool:\n",
    "    prediction1 = False\n",
    "    for key1 in hypothesis_dict.keys():\n",
    "        prediction2 = True\n",
    "        for key2 in hypothesis_dict[key1].keys():\n",
    "            prediction2 &= (hypothesis_dict[key1][key2] == sample[key2])\n",
    "            \n",
    "        prediction1 |= prediction2\n",
    "    \n",
    "    if prediction1 == True: out = 'Yes'\n",
    "    else: out = 'No'\n",
    "    return out"
   ]
  },
  {
   "cell_type": "markdown",
   "id": "8149274f",
   "metadata": {},
   "source": [
    "- [x] <span style='color:blue'> $\\bf{\\text{End of Part 1}}$ </span>"
   ]
  },
  {
   "cell_type": "markdown",
   "id": "f1b66d1d",
   "metadata": {},
   "source": [
    "- [ ] <span style='color:blue'> $\\bf{\\text{Part 2: }}$ </span> $\\bf{\\text{Test}}$"
   ]
  },
  {
   "cell_type": "code",
   "execution_count": 21,
   "id": "3fb29116",
   "metadata": {},
   "outputs": [
    {
     "name": "stdout",
     "output_type": "stream",
     "text": [
      "Positive branches are:\n",
      "\n",
      "['Outlook---Overcast--->', 'Outlook---Rain--->Wind---Weak--->', 'Outlook---Sunny--->Humidity---Normal--->']\n",
      "\n",
      "\n",
      "Result of the Hypothesis for the arbitrary sample: No\n"
     ]
    }
   ],
   "source": [
    "# Test:\n",
    "branches = final_branches()\n",
    "_, positive_branches = tagging_the_completed_branches(completed_branches=branches)\n",
    "hypo_dict = hypothesis_dict_dict(completed_positive_branches=positive_branches)\n",
    "arbitrary_sample = {'Outlook': 'Rain', 'Temparature': 'Mild', 'Humidity': 'High', 'Wind': 'Strong'}\n",
    "result = predict(hypothesis_dict=hypo_dict, sample=arbitrary_sample)\n",
    "print(f'Positive branches are:\\n\\n{positive_branches}\\n\\n')\n",
    "print(f'Result of the Hypothesis for the arbitrary sample: {result}')"
   ]
  },
  {
   "cell_type": "markdown",
   "id": "4bc1815f",
   "metadata": {},
   "source": [
    "- [x] <span style='color:blue'> $\\bf{\\text{End of Part 2}}$ </span>"
   ]
  }
 ],
 "metadata": {
  "kernelspec": {
   "display_name": "Python 3 (ipykernel)",
   "language": "python",
   "name": "python3"
  },
  "language_info": {
   "codemirror_mode": {
    "name": "ipython",
    "version": 3
   },
   "file_extension": ".py",
   "mimetype": "text/x-python",
   "name": "python",
   "nbconvert_exporter": "python",
   "pygments_lexer": "ipython3",
   "version": "3.10.6"
  }
 },
 "nbformat": 4,
 "nbformat_minor": 5
}
